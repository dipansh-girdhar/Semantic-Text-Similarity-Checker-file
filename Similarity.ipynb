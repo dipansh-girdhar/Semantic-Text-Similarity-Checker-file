{
  "nbformat": 4,
  "nbformat_minor": 0,
  "metadata": {
    "colab": {
      "name": "Similarity.ipynb",
      "version": "0.3.2",
      "provenance": [],
      "collapsed_sections": []
    },
    "kernelspec": {
      "name": "python3",
      "display_name": "Python 3"
    },
    "accelerator": "GPU"
  },
  "cells": [
    {
      "metadata": {
        "id": "Dj-RG3uX75tT",
        "colab_type": "text"
      },
      "cell_type": "markdown",
      "source": [
        "# Text Similarity "
      ]
    },
    {
      "metadata": {
        "id": "HPy2n1-AFU_V",
        "colab_type": "code",
        "colab": {}
      },
      "cell_type": "code",
      "source": [
        "!pip install -q nltk\n",
        "!pip install -q sklearn\n",
        "!pip install -q numpy\n",
        "!pip install -q files"
      ],
      "execution_count": 0,
      "outputs": []
    },
    {
      "metadata": {
        "id": "1186RcKDEzTq",
        "colab_type": "code",
        "colab": {}
      },
      "cell_type": "code",
      "source": [
        "from nltk.corpus import wordnet as wn\n",
        "from nltk.corpus import brown\n",
        "import math\n",
        "from google.colab import files\n",
        "import os\n",
        "import nltk\n",
        "import sys\n",
        "from nltk.corpus import stopwords\n",
        "import numpy as np\n",
        "from sklearn.feature_extraction.text import TfidfVectorizer"
      ],
      "execution_count": 0,
      "outputs": []
    },
    {
      "metadata": {
        "id": "ey8yXv2zMt1K",
        "colab_type": "code",
        "outputId": "a5fa8e4c-51c2-472c-aa78-91e287e573e2",
        "colab": {
          "base_uri": "https://localhost:8080/",
          "height": 108
        }
      },
      "cell_type": "code",
      "source": [
        "nltk.download(\"wordnet\")\n",
        "nltk.download('punkt')"
      ],
      "execution_count": 0,
      "outputs": [
        {
          "output_type": "stream",
          "text": [
            "[nltk_data] Downloading package wordnet to /root/nltk_data...\n",
            "[nltk_data]   Unzipping corpora/wordnet.zip.\n",
            "[nltk_data] Downloading package punkt to /root/nltk_data...\n",
            "[nltk_data]   Unzipping tokenizers/punkt.zip.\n"
          ],
          "name": "stdout"
        },
        {
          "output_type": "execute_result",
          "data": {
            "text/plain": [
              "True"
            ]
          },
          "metadata": {
            "tags": []
          },
          "execution_count": 3
        }
      ]
    },
    {
      "metadata": {
        "id": "0P6CgcSEFixC",
        "colab_type": "code",
        "colab": {}
      },
      "cell_type": "code",
      "source": [
        "brown_freqs = dict()\n",
        "N = 0\n",
        "ALPHA = 0.2\n",
        "BETA = 0.45\n",
        "ETA = 0.4\n",
        "PHI = 0.2\n",
        "DELTA = 0.85\n"
      ],
      "execution_count": 0,
      "outputs": []
    },
    {
      "metadata": {
        "id": "TMaABrE_8anZ",
        "colab_type": "text"
      },
      "cell_type": "markdown",
      "source": [
        "## Word Similarity"
      ]
    },
    {
      "metadata": {
        "id": "nNtBlo8EFxN-",
        "colab_type": "code",
        "colab": {}
      },
      "cell_type": "code",
      "source": [
        "def get_best_synset_pair(word_1, word_2):\n",
        "    \n",
        "    max_sim = -1.0\n",
        "    synsets_1 = wn.synsets(word_1)\n",
        "    synsets_2 = wn.synsets(word_2)\n",
        "    if len(synsets_1) == 0 or len(synsets_2) == 0:\n",
        "        return None, None\n",
        "    else:\n",
        "        max_sim = -1.0\n",
        "        best_pair = None, None\n",
        "        for synset_1 in synsets_1:\n",
        "            for synset_2 in synsets_2:\n",
        "                sim = wn.path_similarity(synset_1, synset_2)\n",
        "                if sim!=None and sim > max_sim:\n",
        "                    max_sim = sim\n",
        "                    best_pair = synset_1, synset_2\n",
        "        return best_pair "
      ],
      "execution_count": 0,
      "outputs": []
    },
    {
      "metadata": {
        "colab_type": "code",
        "id": "8yNZOV2k7uxe",
        "outputId": "f8c1d740-8ae0-4e4a-a4c6-06737e5cca6f",
        "colab": {
          "base_uri": "https://localhost:8080/",
          "height": 35
        }
      },
      "cell_type": "code",
      "source": [
        "get_best_synset_pair(\"awesome\",\"amazing\")"
      ],
      "execution_count": 0,
      "outputs": [
        {
          "output_type": "execute_result",
          "data": {
            "text/plain": [
              "(Synset('amazing.s.02'), Synset('amazing.s.02'))"
            ]
          },
          "metadata": {
            "tags": []
          },
          "execution_count": 6
        }
      ]
    },
    {
      "metadata": {
        "id": "r7PmtkaaGAJI",
        "colab_type": "code",
        "colab": {}
      },
      "cell_type": "code",
      "source": [
        "def length_dist(synset_1, synset_2):\n",
        "    \n",
        "    l_dist = sys.maxsize\n",
        "    if synset_1 is None or synset_2 is None: \n",
        "        return 0.0\n",
        "    if synset_1 == synset_2:\n",
        "        # if synset_1 and synset_2 are the same synset return 0\n",
        "        l_dist = 0.0\n",
        "    else:\n",
        "        wset_1 = set([str(x.name()) for x in synset_1.lemmas()])        \n",
        "        wset_2 = set([str(x.name()) for x in synset_2.lemmas()])\n",
        "        if len(wset_1.intersection(wset_2)) > 0:\n",
        "            # if synset_1 != synset_2 but there is word overlap, return 1.0\n",
        "            l_dist = 1.0\n",
        "        else:\n",
        "            # just compute the shortest path between the two\n",
        "            l_dist = synset_1.shortest_path_distance(synset_2)\n",
        "            if l_dist is None:\n",
        "                l_dist = 0.0\n",
        "    # normalize path length to the range [0,1]\n",
        "    return math.exp(-ALPHA * l_dist)"
      ],
      "execution_count": 0,
      "outputs": []
    },
    {
      "metadata": {
        "id": "hKQQmHWZPshh",
        "colab_type": "code",
        "outputId": "21603b74-27dd-42a3-9502-5bcd361fb911",
        "colab": {
          "base_uri": "https://localhost:8080/",
          "height": 171
        }
      },
      "cell_type": "code",
      "source": [
        "length_dist(x,y)"
      ],
      "execution_count": 0,
      "outputs": [
        {
          "output_type": "error",
          "ename": "NameError",
          "evalue": "ignored",
          "traceback": [
            "\u001b[0;31m---------------------------------------------------------------------------\u001b[0m",
            "\u001b[0;31mNameError\u001b[0m                                 Traceback (most recent call last)",
            "\u001b[0;32m<ipython-input-8-08d807aa5bb3>\u001b[0m in \u001b[0;36m<module>\u001b[0;34m()\u001b[0m\n\u001b[0;32m----> 1\u001b[0;31m \u001b[0mlength_dist\u001b[0m\u001b[0;34m(\u001b[0m\u001b[0mx\u001b[0m\u001b[0;34m,\u001b[0m\u001b[0my\u001b[0m\u001b[0;34m)\u001b[0m\u001b[0;34m\u001b[0m\u001b[0;34m\u001b[0m\u001b[0m\n\u001b[0m",
            "\u001b[0;31mNameError\u001b[0m: name 'x' is not defined"
          ]
        }
      ]
    },
    {
      "metadata": {
        "id": "9a0GLJ8hP_jw",
        "colab_type": "code",
        "colab": {}
      },
      "cell_type": "code",
      "source": [
        "def hierarchy_dist(synset_1, synset_2):\n",
        "    \n",
        "    h_dist = sys.maxsize\n",
        "    if synset_1 is None or synset_2 is None: \n",
        "        return h_dist\n",
        "    if synset_1 == synset_2:\n",
        "        # return the depth of one of synset_1 or synset_2\n",
        "        h_dist = max([x[1] for x in synset_1.hypernym_distances()])\n",
        "    else:\n",
        "        # find the max depth of least common subsumer\n",
        "        hypernyms_1 = {x[0]:x[1] for x in synset_1.hypernym_distances()}\n",
        "        hypernyms_2 = {x[0]:x[1] for x in synset_2.hypernym_distances()}\n",
        "        lcs_candidates = set(hypernyms_1.keys()).intersection(set(hypernyms_2.keys()))\n",
        "        if len(lcs_candidates) > 0:\n",
        "            lcs_dists = []\n",
        "            for lcs_candidate in lcs_candidates:\n",
        "                lcs_d1 = 0\n",
        "                if lcs_candidate in hypernyms_1:\n",
        "                    lcs_d1 = hypernyms_1[lcs_candidate]\n",
        "                lcs_d2 = 0\n",
        "                if lcs_candidate in hypernyms_2:\n",
        "                    lcs_d2 = hypernyms_2[lcs_candidate]\n",
        "                lcs_dists.append(max([lcs_d1, lcs_d2]))\n",
        "            h_dist = max(lcs_dists)\n",
        "        else:\n",
        "            h_dist = 0\n",
        "    return ((math.exp(BETA * h_dist) - math.exp(-BETA * h_dist)) / \n",
        "        (math.exp(BETA * h_dist) + math.exp(-BETA * h_dist)))"
      ],
      "execution_count": 0,
      "outputs": []
    },
    {
      "metadata": {
        "id": "2pZCrh8TbJG0",
        "colab_type": "code",
        "colab": {}
      },
      "cell_type": "code",
      "source": [
        "def word_similarity(word_1, word_2):\n",
        "    synset_pair = get_best_synset_pair(word_1, word_2)\n",
        "    return (length_dist(synset_pair[0], synset_pair[1]) * \n",
        "        hierarchy_dist(synset_pair[0], synset_pair[1]))"
      ],
      "execution_count": 0,
      "outputs": []
    },
    {
      "metadata": {
        "id": "_Pj6HUTzRBBW",
        "colab_type": "code",
        "outputId": "6fa9f734-9e2c-46b5-e3ea-2d5ca9689206",
        "colab": {
          "base_uri": "https://localhost:8080/",
          "height": 35
        }
      },
      "cell_type": "code",
      "source": [
        "word_similarity(\"cat\",\"dog\")"
      ],
      "execution_count": 0,
      "outputs": [
        {
          "output_type": "execute_result",
          "data": {
            "text/plain": [
              "0.4493215108726933"
            ]
          },
          "metadata": {
            "tags": []
          },
          "execution_count": 11
        }
      ]
    },
    {
      "metadata": {
        "id": "r1Tl2CynIKID",
        "colab_type": "text"
      },
      "cell_type": "markdown",
      "source": [
        "## Sentence Similarity"
      ]
    },
    {
      "metadata": {
        "id": "ivlDo-k6br3a",
        "colab_type": "code",
        "colab": {}
      },
      "cell_type": "code",
      "source": [
        "def most_similar_word(word, word_set):\n",
        "    max_sim = -1.0\n",
        "    sim_word = \"\"\n",
        "    for ref_word in word_set:\n",
        "      sim = word_similarity(word, ref_word)\n",
        "      if sim > max_sim:\n",
        "          max_sim = sim\n",
        "          sim_word = ref_word\n",
        "    return sim_word, max_sim"
      ],
      "execution_count": 0,
      "outputs": []
    },
    {
      "metadata": {
        "id": "z3xt0MFoQnGw",
        "colab_type": "code",
        "outputId": "07d45274-36d4-4c74-b1d7-60e40f0d3b8a",
        "colab": {
          "base_uri": "https://localhost:8080/",
          "height": 35
        }
      },
      "cell_type": "code",
      "source": [
        "word_similarity(\"elephant\", \"horse\")"
      ],
      "execution_count": 0,
      "outputs": [
        {
          "output_type": "execute_result",
          "data": {
            "text/plain": [
              "0.3011921806561094"
            ]
          },
          "metadata": {
            "tags": []
          },
          "execution_count": 13
        }
      ]
    },
    {
      "metadata": {
        "id": "Bv23zYGl4QUP",
        "colab_type": "code",
        "outputId": "d616fc29-ba7e-4d19-e85a-4cbaecf7657b",
        "colab": {
          "base_uri": "https://localhost:8080/",
          "height": 72
        }
      },
      "cell_type": "code",
      "source": [
        "nltk.download('brown')"
      ],
      "execution_count": 0,
      "outputs": [
        {
          "output_type": "stream",
          "text": [
            "[nltk_data] Downloading package brown to /root/nltk_data...\n",
            "[nltk_data]   Unzipping corpora/brown.zip.\n"
          ],
          "name": "stdout"
        },
        {
          "output_type": "execute_result",
          "data": {
            "text/plain": [
              "True"
            ]
          },
          "metadata": {
            "tags": []
          },
          "execution_count": 14
        }
      ]
    },
    {
      "metadata": {
        "id": "tDi_2eGhc9e-",
        "colab_type": "code",
        "colab": {}
      },
      "cell_type": "code",
      "source": [
        "def info_content(lookup_word):\n",
        "    \n",
        "    global N\n",
        "    if N == 0:\n",
        "        for sent in brown.sents():\n",
        "            for word in sent:\n",
        "                word = word.lower()\n",
        "                if word not in brown_freqs:\n",
        "                    brown_freqs[word] = 0\n",
        "                brown_freqs[word] = brown_freqs[word] + 1\n",
        "                N = N + 1\n",
        "    lookup_word = lookup_word.lower()\n",
        "    n = 0 if lookup_word not in brown_freqs else brown_freqs[lookup_word]\n",
        "    return 1.0 - (math.log(n + 1) / math.log(N + 1))"
      ],
      "execution_count": 0,
      "outputs": []
    },
    {
      "metadata": {
        "id": "x4ldbyMydEnW",
        "colab_type": "code",
        "colab": {}
      },
      "cell_type": "code",
      "source": [
        "def semantic_vector(words, joint_words, info_content_norm):\n",
        "    sent_set = set(words)\n",
        "    semvec = np.zeros(len(joint_words))\n",
        "    i = 0\n",
        "    for joint_word in joint_words:\n",
        "        if joint_word in sent_set:\n",
        "            # if word in union exists in the sentence, s(i) = 1 (unnormalized)\n",
        "            semvec[i] = 1.0\n",
        "            if info_content_norm:\n",
        "                semvec[i] = semvec[i] * math.pow(info_content(joint_word), 2)\n",
        "        else:\n",
        "            # finding the most similar word in the joint set and set the sim value\n",
        "            sim_word, max_sim = most_similar_word(joint_word, sent_set)\n",
        "            semvec[i] = PHI if max_sim > PHI else 0.0\n",
        "            if info_content_norm:\n",
        "                semvec[i] = semvec[i] * info_content(joint_word) * info_content(sim_word)\n",
        "        i = i + 1\n",
        "    return semvec             "
      ],
      "execution_count": 0,
      "outputs": []
    },
    {
      "metadata": {
        "id": "2cz8bPPtdVtH",
        "colab_type": "code",
        "colab": {}
      },
      "cell_type": "code",
      "source": [
        "def semantic_similarity(sentence_1,sentence_2):\n",
        "    info_content_norm = True\n",
        "    words_1 = nltk.word_tokenize(sentence_1)\n",
        "    words_2 = nltk.word_tokenize(sentence_2)\n",
        "    joint_words = set(words_1).union(set(words_2))\n",
        "    vec_1 = semantic_vector(words_1, joint_words, info_content_norm)\n",
        "    vec_2 = semantic_vector(words_2, joint_words, info_content_norm)\n",
        "    return np.dot(vec_1, vec_2.T) / (np.linalg.norm(vec_1) * np.linalg.norm(vec_2))\n"
      ],
      "execution_count": 0,
      "outputs": []
    },
    {
      "metadata": {
        "id": "E3vAu8A_Igi3",
        "colab_type": "text"
      },
      "cell_type": "markdown",
      "source": [
        "## Word Order Similarity"
      ]
    },
    {
      "metadata": {
        "id": "HOeNI6qedczN",
        "colab_type": "code",
        "colab": {}
      },
      "cell_type": "code",
      "source": [
        "def word_order_vector(words, joint_words, windex):\n",
        "    wovec = np.zeros(len(joint_words))\n",
        "    i = 0\n",
        "    wordset = set(words)\n",
        "    for joint_word in joint_words:\n",
        "        if joint_word in wordset:\n",
        "            # word in joint_words found in sentence, just populate the index\n",
        "            wovec[i] = windex[joint_word]\n",
        "        else:\n",
        "            # word not in joint_words, find most similar word and populate\n",
        "            # word_vector with the thresholded similarity\n",
        "            sim_word, max_sim = most_similar_word(joint_word, wordset)\n",
        "            if max_sim > ETA:\n",
        "                wovec[i] = windex[sim_word]\n",
        "            else:\n",
        "                wovec[i] = 0\n",
        "        i = i + 1\n",
        "    return wovec"
      ],
      "execution_count": 0,
      "outputs": []
    },
    {
      "metadata": {
        "id": "QLT-nMU2d5Fh",
        "colab_type": "code",
        "colab": {}
      },
      "cell_type": "code",
      "source": [
        "def word_order_similarity(sentence_1, sentence_2):\n",
        "    words_1 = nltk.word_tokenize(sentence_1)\n",
        "    words_2 = nltk.word_tokenize(sentence_2)\n",
        "    joint_words = list(set(words_1).union(set(words_2)))\n",
        "    windex = {x[1]: x[0] for x in enumerate(joint_words)}\n",
        "    r1 = word_order_vector(words_1, joint_words, windex)\n",
        "    r2 = word_order_vector(words_2, joint_words, windex)\n",
        "    return 1.0 - (np.linalg.norm(r1 - r2) / np.linalg.norm(r1 + r2))\n"
      ],
      "execution_count": 0,
      "outputs": []
    },
    {
      "metadata": {
        "id": "zmH7dxIyIk3x",
        "colab_type": "text"
      },
      "cell_type": "markdown",
      "source": [
        "## Final Similarity Measure"
      ]
    },
    {
      "metadata": {
        "id": "DtCYVyOud_sq",
        "colab_type": "code",
        "colab": {}
      },
      "cell_type": "code",
      "source": [
        "def similarity(sentence_1, sentence_2):\n",
        "    return DELTA * semantic_similarity(sentence_1, sentence_2) + (1.0 - DELTA) * word_order_similarity(sentence_1, sentence_2)"
      ],
      "execution_count": 0,
      "outputs": []
    },
    {
      "metadata": {
        "id": "VqjXPj2-tdpy",
        "colab_type": "code",
        "outputId": "99ceafc1-c3c4-4697-b68f-71192a95527f",
        "colab": {
          "base_uri": "https://localhost:8080/",
          "height": 35
        }
      },
      "cell_type": "code",
      "source": [
        "similarity(\"She fed me with icecream\",\"I was fed cocoa by her\")"
      ],
      "execution_count": 0,
      "outputs": [
        {
          "output_type": "execute_result",
          "data": {
            "text/plain": [
              "0.5212428058025436"
            ]
          },
          "metadata": {
            "tags": []
          },
          "execution_count": 27
        }
      ]
    },
    {
      "metadata": {
        "id": "vQGlF97bU9Ki",
        "colab_type": "code",
        "outputId": "609a35eb-63b9-4b7e-8d84-381da2810e56",
        "colab": {
          "base_uri": "https://localhost:8080/",
          "height": 35
        }
      },
      "cell_type": "code",
      "source": [
        "similarity(\"The length of a typical cobra is 100m\",\"Purushottam writes amazing poems\")"
      ],
      "execution_count": 0,
      "outputs": [
        {
          "output_type": "execute_result",
          "data": {
            "text/plain": [
              "0.09280293692655961"
            ]
          },
          "metadata": {
            "tags": []
          },
          "execution_count": 22
        }
      ]
    },
    {
      "metadata": {
        "id": "jafkGFbSeY-T",
        "colab_type": "code",
        "colab": {}
      },
      "cell_type": "code",
      "source": [
        "file_name = []\n",
        "file_text = []"
      ],
      "execution_count": 0,
      "outputs": []
    },
    {
      "metadata": {
        "id": "4LSYwrgHerO3",
        "colab_type": "code",
        "outputId": "685b9742-b67f-47a3-fb6a-5ad998ad5136",
        "colab": {
          "base_uri": "https://localhost:8080/",
          "height": 128
        }
      },
      "cell_type": "code",
      "source": [
        "from google.colab import drive\n",
        "\n",
        "drive.mount('/content/drive')"
      ],
      "execution_count": 0,
      "outputs": [
        {
          "output_type": "stream",
          "text": [
            "Go to this URL in a browser: https://accounts.google.com/o/oauth2/auth?client_id=947318989803-6bn6qk8qdgf4n4g3pfee6491hc0brc4i.apps.googleusercontent.com&redirect_uri=urn%3Aietf%3Awg%3Aoauth%3A2.0%3Aoob&scope=email%20https%3A%2F%2Fwww.googleapis.com%2Fauth%2Fdocs.test%20https%3A%2F%2Fwww.googleapis.com%2Fauth%2Fdrive%20https%3A%2F%2Fwww.googleapis.com%2Fauth%2Fdrive.photos.readonly%20https%3A%2F%2Fwww.googleapis.com%2Fauth%2Fpeopleapi.readonly&response_type=code\n",
            "\n",
            "Enter your authorization code:\n",
            "··········\n",
            "Mounted at /content/drive\n"
          ],
          "name": "stdout"
        }
      ]
    },
    {
      "metadata": {
        "id": "Ai1r4JQgl_Hb",
        "colab_type": "code",
        "colab": {}
      },
      "cell_type": "code",
      "source": [
        "t1=open('drive/My Drive/Text Similarity Dataset/Text1.txt')"
      ],
      "execution_count": 0,
      "outputs": []
    },
    {
      "metadata": {
        "id": "KHzujU4qnOFk",
        "colab_type": "code",
        "colab": {}
      },
      "cell_type": "code",
      "source": [
        "t2=open('drive/My Drive/Text Similarity Dataset/Text2.txt')"
      ],
      "execution_count": 0,
      "outputs": []
    },
    {
      "metadata": {
        "id": "ed7Vv1AH5lL5",
        "colab_type": "code",
        "outputId": "b1d35959-ce59-45bd-ac25-ad0fe3d3c4a0",
        "colab": {
          "base_uri": "https://localhost:8080/",
          "height": 35
        }
      },
      "cell_type": "code",
      "source": [
        "t1"
      ],
      "execution_count": 0,
      "outputs": [
        {
          "output_type": "execute_result",
          "data": {
            "text/plain": [
              "<_io.TextIOWrapper name='drive/My Drive/Text Similarity Dataset/Text1.txt' mode='r' encoding='UTF-8'>"
            ]
          },
          "metadata": {
            "tags": []
          },
          "execution_count": 29
        }
      ]
    },
    {
      "metadata": {
        "id": "gTP_kbuBne5j",
        "colab_type": "code",
        "colab": {}
      },
      "cell_type": "code",
      "source": [
        "file_name.append(t1)\n",
        "text1 = t1.readlines()[0]\n",
        "sent_text1 = nltk.sent_tokenize(text1)\n",
        "file_text.append(sent_text1)"
      ],
      "execution_count": 0,
      "outputs": []
    },
    {
      "metadata": {
        "id": "MmRtmr4Nnu8A",
        "colab_type": "code",
        "colab": {}
      },
      "cell_type": "code",
      "source": [
        "file_name.append(t2)\n",
        "text2 = t2.readlines()[0]\n",
        "sent_text2 = nltk.sent_tokenize(text2)\n",
        "file_text.append(sent_text2)"
      ],
      "execution_count": 0,
      "outputs": []
    },
    {
      "metadata": {
        "id": "15WueHZT5rz0",
        "colab_type": "code",
        "outputId": "05f3dca5-3ce8-4bc4-a922-a1efdb5848da",
        "colab": {
          "base_uri": "https://localhost:8080/",
          "height": 35
        }
      },
      "cell_type": "code",
      "source": [
        "text1"
      ],
      "execution_count": 0,
      "outputs": [
        {
          "output_type": "execute_result",
          "data": {
            "text/plain": [
              "'Although he was wealthy, he was still unhappy.'"
            ]
          },
          "metadata": {
            "tags": []
          },
          "execution_count": 32
        }
      ]
    },
    {
      "metadata": {
        "id": "DUrgonQ1psCz",
        "colab_type": "code",
        "outputId": "36d75272-c78a-41ca-924c-891418ef8ebd",
        "colab": {
          "base_uri": "https://localhost:8080/",
          "height": 35
        }
      },
      "cell_type": "code",
      "source": [
        "similarity(text1,text2)"
      ],
      "execution_count": 0,
      "outputs": [
        {
          "output_type": "execute_result",
          "data": {
            "text/plain": [
              "0.17115247611412895"
            ]
          },
          "metadata": {
            "tags": []
          },
          "execution_count": 34
        }
      ]
    },
    {
      "metadata": {
        "id": "k9xxfRohtbFE",
        "colab_type": "code",
        "outputId": "16456274-16cc-4146-a2da-170c2d34b9e6",
        "colab": {
          "base_uri": "https://localhost:8080/",
          "height": 35
        }
      },
      "cell_type": "code",
      "source": [
        "similarity(\"This is a car\",\"This is a phone\")"
      ],
      "execution_count": 0,
      "outputs": [
        {
          "output_type": "execute_result",
          "data": {
            "text/plain": [
              "0.5431910261634671"
            ]
          },
          "metadata": {
            "tags": []
          },
          "execution_count": 35
        }
      ]
    },
    {
      "metadata": {
        "id": "tZaiG8gwV2k0",
        "colab_type": "code",
        "outputId": "634c3c8e-94d1-43bb-efa7-3a68ab8567cd",
        "colab": {
          "base_uri": "https://localhost:8080/",
          "height": 171
        }
      },
      "cell_type": "code",
      "source": [
        "similarity(\"cat\",\"dog\")"
      ],
      "execution_count": 0,
      "outputs": [
        {
          "output_type": "error",
          "ename": "NameError",
          "evalue": "ignored",
          "traceback": [
            "\u001b[0;31m---------------------------------------------------------------------------\u001b[0m",
            "\u001b[0;31mNameError\u001b[0m                                 Traceback (most recent call last)",
            "\u001b[0;32m<ipython-input-1-928fc0e21b1e>\u001b[0m in \u001b[0;36m<module>\u001b[0;34m()\u001b[0m\n\u001b[0;32m----> 1\u001b[0;31m \u001b[0msimilarity\u001b[0m\u001b[0;34m(\u001b[0m\u001b[0;34m\"cat\"\u001b[0m\u001b[0;34m,\u001b[0m\u001b[0;34m\"dog\"\u001b[0m\u001b[0;34m)\u001b[0m\u001b[0;34m\u001b[0m\u001b[0;34m\u001b[0m\u001b[0m\n\u001b[0m",
            "\u001b[0;31mNameError\u001b[0m: name 'similarity' is not defined"
          ]
        }
      ]
    },
    {
      "metadata": {
        "id": "1vRKKZR3WShU",
        "colab_type": "code",
        "outputId": "02b6ad85-4748-497b-fea8-d7df64078848",
        "colab": {
          "base_uri": "https://localhost:8080/",
          "height": 35
        }
      },
      "cell_type": "code",
      "source": [
        "similarity(\"I'm dying\",\"You are dying\")"
      ],
      "execution_count": 0,
      "outputs": [
        {
          "output_type": "execute_result",
          "data": {
            "text/plain": [
              "0.4404142629127164"
            ]
          },
          "metadata": {
            "tags": []
          },
          "execution_count": 25
        }
      ]
    },
    {
      "metadata": {
        "id": "RfBCR6zoZRar",
        "colab_type": "code",
        "colab": {}
      },
      "cell_type": "code",
      "source": [
        ""
      ],
      "execution_count": 0,
      "outputs": []
    }
  ]
}